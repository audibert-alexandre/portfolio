{
 "cells": [
  {
   "cell_type": "markdown",
   "metadata": {},
   "source": [
    "## Imports"
   ]
  },
  {
   "cell_type": "markdown",
   "metadata": {
    "heading_collapsed": true
   },
   "source": [
    "### Librairies"
   ]
  },
  {
   "cell_type": "code",
   "execution_count": 1,
   "metadata": {
    "ExecuteTime": {
     "end_time": "2021-10-30T22:57:20.863722Z",
     "start_time": "2021-10-30T22:57:20.612112Z"
    },
    "hidden": true
   },
   "outputs": [],
   "source": [
    "import matplotlib.pyplot as plt\n",
    "import numpy as np\n",
    "import pandas as pd\n",
    "import sys \n",
    "\n",
    "from datetime import datetime, date, timedelta\n",
    "\n",
    "import lightgbm as lgb"
   ]
  },
  {
   "cell_type": "markdown",
   "metadata": {
    "heading_collapsed": true
   },
   "source": [
    "### Data"
   ]
  },
  {
   "cell_type": "code",
   "execution_count": 2,
   "metadata": {
    "ExecuteTime": {
     "end_time": "2021-10-30T22:57:26.610874Z",
     "start_time": "2021-10-30T22:57:20.863722Z"
    },
    "hidden": true
   },
   "outputs": [
    {
     "name": "stdout",
     "output_type": "stream",
     "text": [
      "(6036000, 7)\n"
     ]
    },
    {
     "data": {
      "text/html": [
       "<div>\n",
       "<style scoped>\n",
       "    .dataframe tbody tr th:only-of-type {\n",
       "        vertical-align: middle;\n",
       "    }\n",
       "\n",
       "    .dataframe tbody tr th {\n",
       "        vertical-align: top;\n",
       "    }\n",
       "\n",
       "    .dataframe thead th {\n",
       "        text-align: right;\n",
       "    }\n",
       "</style>\n",
       "<table border=\"1\" class=\"dataframe\">\n",
       "  <thead>\n",
       "    <tr style=\"text-align: right;\">\n",
       "      <th></th>\n",
       "      <th>breath_id</th>\n",
       "      <th>R</th>\n",
       "      <th>C</th>\n",
       "      <th>time_step</th>\n",
       "      <th>u_in</th>\n",
       "      <th>u_out</th>\n",
       "      <th>pressure</th>\n",
       "    </tr>\n",
       "    <tr>\n",
       "      <th>id</th>\n",
       "      <th></th>\n",
       "      <th></th>\n",
       "      <th></th>\n",
       "      <th></th>\n",
       "      <th></th>\n",
       "      <th></th>\n",
       "      <th></th>\n",
       "    </tr>\n",
       "  </thead>\n",
       "  <tbody>\n",
       "    <tr>\n",
       "      <th>1</th>\n",
       "      <td>1</td>\n",
       "      <td>20</td>\n",
       "      <td>50</td>\n",
       "      <td>0.000000</td>\n",
       "      <td>0.083334</td>\n",
       "      <td>0</td>\n",
       "      <td>5.837492</td>\n",
       "    </tr>\n",
       "    <tr>\n",
       "      <th>2</th>\n",
       "      <td>1</td>\n",
       "      <td>20</td>\n",
       "      <td>50</td>\n",
       "      <td>0.033652</td>\n",
       "      <td>18.383041</td>\n",
       "      <td>0</td>\n",
       "      <td>5.907794</td>\n",
       "    </tr>\n",
       "    <tr>\n",
       "      <th>3</th>\n",
       "      <td>1</td>\n",
       "      <td>20</td>\n",
       "      <td>50</td>\n",
       "      <td>0.067514</td>\n",
       "      <td>22.509278</td>\n",
       "      <td>0</td>\n",
       "      <td>7.876254</td>\n",
       "    </tr>\n",
       "    <tr>\n",
       "      <th>4</th>\n",
       "      <td>1</td>\n",
       "      <td>20</td>\n",
       "      <td>50</td>\n",
       "      <td>0.101542</td>\n",
       "      <td>22.808822</td>\n",
       "      <td>0</td>\n",
       "      <td>11.742872</td>\n",
       "    </tr>\n",
       "    <tr>\n",
       "      <th>5</th>\n",
       "      <td>1</td>\n",
       "      <td>20</td>\n",
       "      <td>50</td>\n",
       "      <td>0.135756</td>\n",
       "      <td>25.355850</td>\n",
       "      <td>0</td>\n",
       "      <td>12.234987</td>\n",
       "    </tr>\n",
       "  </tbody>\n",
       "</table>\n",
       "</div>"
      ],
      "text/plain": [
       "    breath_id   R   C  time_step       u_in  u_out   pressure\n",
       "id                                                           \n",
       "1           1  20  50   0.000000   0.083334      0   5.837492\n",
       "2           1  20  50   0.033652  18.383041      0   5.907794\n",
       "3           1  20  50   0.067514  22.509278      0   7.876254\n",
       "4           1  20  50   0.101542  22.808822      0  11.742872\n",
       "5           1  20  50   0.135756  25.355850      0  12.234987"
      ]
     },
     "execution_count": 2,
     "metadata": {},
     "output_type": "execute_result"
    }
   ],
   "source": [
    "train = pd.read_csv('train.csv', index_col='id')\n",
    "test = pd.read_csv('test.csv', index_col='id')\n",
    "print(train.shape)\n",
    "train.head()"
   ]
  },
  {
   "cell_type": "markdown",
   "metadata": {},
   "source": [
    "## Création"
   ]
  },
  {
   "cell_type": "markdown",
   "metadata": {},
   "source": [
    "### Split train/test set - validation set"
   ]
  },
  {
   "cell_type": "code",
   "execution_count": 3,
   "metadata": {
    "ExecuteTime": {
     "end_time": "2021-10-30T22:57:27.436768Z",
     "start_time": "2021-10-30T22:57:26.613875Z"
    }
   },
   "outputs": [],
   "source": [
    "l_breath_id = train.breath_id.unique().tolist()\n",
    "nb_breath_id = len(l_breath_id)\n",
    "\n",
    "random.seed(113)\n",
    "validation_set_id = random.sample(l_breath_id, int(len(l_breath_id)/3))\n",
    "validation_set = train[train.breath_id.isin(validation_set_id)]\n",
    "train_test_set = train[train.breath_id.isin(validation_set_id) == False]"
   ]
  },
  {
   "cell_type": "markdown",
   "metadata": {},
   "source": [
    "### Split different R & C lungs"
   ]
  },
  {
   "cell_type": "code",
   "execution_count": 4,
   "metadata": {
    "ExecuteTime": {
     "end_time": "2021-10-30T22:57:34.567462Z",
     "start_time": "2021-10-30T22:57:27.436768Z"
    }
   },
   "outputs": [],
   "source": [
    "train_test_set['R_C'] = train_test_set.R.astype(str) + train_test_set.C.astype(str)\n",
    "l_r_c = train_test_set.R_C.unique().tolist()\n",
    "l_train_test_set = []\n",
    "for i, r_c in enumerate(l_r_c):\n",
    "    l_train_test_set.append(train_test_set[train_test_set.R_C == r_c])"
   ]
  },
  {
   "cell_type": "markdown",
   "metadata": {},
   "source": [
    "### Features"
   ]
  },
  {
   "cell_type": "code",
   "execution_count": 7,
   "metadata": {
    "ExecuteTime": {
     "end_time": "2021-10-30T23:00:04.187969Z",
     "start_time": "2021-10-30T22:58:31.611420Z"
    }
   },
   "outputs": [],
   "source": [
    "for i in range(len(l_train_test_set)):\n",
    "\n",
    "    l_train_test_set[i]['u_in_sum'] = l_train_test_set[i].groupby('breath_id')['u_in'].transform('sum')\n",
    "    l_train_test_set[i]['u_in_cumsum'] = l_train_test_set[i].groupby('breath_id')['u_in'].transform('cumsum')\n",
    "    l_train_test_set[i]['u_in_std'] = l_train_test_set[i].groupby('breath_id')['u_in'].transform('std')\n",
    "    l_train_test_set[i]['u_in_min'] = l_train_test_set[i].groupby('breath_id')['u_in'].transform('min')\n",
    "    l_train_test_set[i]['u_in_max'] = l_train_test_set[i].groupby('breath_id')['u_in'].transform('max')\n",
    "    l_train_test_set[i]['u_in_mean'] = l_train_test_set[i].groupby('breath_id')['u_in'].transform('mean')\n",
    "    l_train_test_set[i]['u_in_median'] = l_train_test_set[i].groupby('breath_id')['u_in'].transform('median')\n",
    "    l_train_test_set[i]['u_in_first'] = l_train_test_set[i].groupby('breath_id')['u_in'].transform('first')\n",
    "    l_train_test_set[i]['u_in_last'] = l_train_test_set[i].groupby('breath_id')['u_in'].transform('last')\n",
    "    l_train_test_set[i]['u_in_lag1']  = l_train_test_set[i].groupby('breath_id')['u_in'].shift(1)\n",
    "    l_train_test_set[i]['u_in_lag2']  = l_train_test_set[i].groupby('breath_id')['u_in'].shift(2)\n",
    "    l_train_test_set[i]['u_in_lag3']  = l_train_test_set[i].groupby('breath_id')['u_in'].shift(3)\n",
    "    l_train_test_set[i]['u_in_lag4']  = l_train_test_set[i].groupby('breath_id')['u_in'].shift(4)\n",
    "    l_train_test_set[i]['u_in_backlag1']  = l_train_test_set[i].groupby('breath_id')['u_in'].shift(-1)\n",
    "    l_train_test_set[i]['u_in_backlag2']  = l_train_test_set[i].groupby('breath_id')['u_in'].shift(-2)\n",
    "    l_train_test_set[i]['u_in_backlag3']  = l_train_test_set[i].groupby('breath_id')['u_in'].shift(-3)\n",
    "    l_train_test_set[i]['u_in_backlag4']  = l_train_test_set[i].groupby('breath_id')['u_in'].shift(-4)\n",
    "    l_train_test_set[i]['u_in_diff1'] = l_train_test_set[i]['u_in'] - l_train_test_set[i]['u_in_lag1']\n",
    "    l_train_test_set[i]['u_in_diff2'] = l_train_test_set[i]['u_in'] - l_train_test_set[i]['u_in_lag2']\n",
    "    l_train_test_set[i]['u_in_diff3'] = l_train_test_set[i]['u_in'] - l_train_test_set[i]['u_in_lag3']\n",
    "    l_train_test_set[i]['u_in_diff4'] = l_train_test_set[i]['u_in'] - l_train_test_set[i]['u_in_lag4']\n",
    "    l_train_test_set[i]['area'] = l_train_test_set[i]['time_step'] * l_train_test_set[i]['u_in']\n",
    "    l_train_test_set[i]['area2'] = l_train_test_set[i].groupby('breath_id')['area'].cumsum()\n",
    "    l_train_test_set[i]['breath_id__u_in__diffmax']  = l_train_test_set[i].groupby(['breath_id'])['u_in'].transform('max') \\\n",
    "                                                        - l_train_test_set[i]['u_in']\n",
    "    l_train_test_set[i]['breath_id__u_in__diffmean'] = l_train_test_set[i].groupby(['breath_id'])['u_in'].transform('mean') \\\n",
    "                                                        - l_train_test_set[i]['u_in']\n",
    "    l_train_test_set[i]['cross']                     = l_train_test_set[i]['u_in'] * l_train_test_set[i]['u_out']\n",
    "    l_train_test_set[i]['cross2']                    = l_train_test_set[i]['time_step'] * l_train_test_set[i]['u_out']\n",
    "\n",
    "    l_train_test_set[i]['u_out_sum'] = l_train_test_set[i].groupby('breath_id')['u_out'].transform('sum')\n",
    "    l_train_test_set[i]['u_out_lag1']  = l_train_test_set[i].groupby('breath_id')['u_out'].shift(1)\n",
    "    l_train_test_set[i]['u_out_lag2']  = l_train_test_set[i].groupby('breath_id')['u_out'].shift(2)\n",
    "    l_train_test_set[i]['u_out_lag3']  = l_train_test_set[i].groupby('breath_id')['u_out'].shift(3)\n",
    "    l_train_test_set[i]['u_out_lag4']  = l_train_test_set[i].groupby('breath_id')['u_out'].shift(4)\n",
    "    l_train_test_set[i]['u_out_backlag1']  = l_train_test_set[i].groupby('breath_id')['u_out'].shift(-1)\n",
    "    l_train_test_set[i]['u_out_backlag2']  = l_train_test_set[i].groupby('breath_id')['u_out'].shift(-2)\n",
    "    l_train_test_set[i]['u_out_backlag3']  = l_train_test_set[i].groupby('breath_id')['u_out'].shift(-3)\n",
    "    l_train_test_set[i]['u_out_backlag4']  = l_train_test_set[i].groupby('breath_id')['u_out'].shift(-4)\n",
    "    l_train_test_set[i]['u_out_diff1'] = l_train_test_set[i]['u_out'] - l_train_test_set[i]['u_out_lag1']\n",
    "    l_train_test_set[i]['u_out_diff2'] = l_train_test_set[i]['u_out'] - l_train_test_set[i]['u_out_lag2']\n",
    "    l_train_test_set[i]['u_out_diff3'] = l_train_test_set[i]['u_out'] - l_train_test_set[i]['u_out_lag3']\n",
    "    l_train_test_set[i]['u_out_diff4'] = l_train_test_set[i]['u_out'] - l_train_test_set[i]['u_out_lag4']\n",
    "\n",
    "    \n",
    "    l_train_test_set[i]['dt_1'] = l_train_test_set[i].groupby('breath_id')['time_step'].diff(1)\n",
    "    l_train_test_set[i]['dt_2'] = l_train_test_set[i].groupby('breath_id')['time_step'].diff(2)\n",
    "    l_train_test_set[i]['dt_3'] = l_train_test_set[i].groupby('breath_id')['time_step'].diff(3)\n",
    "    l_train_test_set[i]['dt_4'] = l_train_test_set[i].groupby('breath_id')['time_step'].diff(4)\n",
    "    l_train_test_set[i]['dt_5'] = l_train_test_set[i].groupby('breath_id')['time_step'].diff(5)\n",
    "    l_train_test_set[i]['dt_6'] = l_train_test_set[i].groupby('breath_id')['time_step'].diff(6)\n",
    "    l_train_test_set[i]['dt_7'] = l_train_test_set[i].groupby('breath_id')['time_step'].diff(7)\n",
    "    l_train_test_set[i]['dt_8'] = l_train_test_set[i].groupby('breath_id')['time_step'].diff(8)\n",
    "    \n",
    "    l_train_test_set[i]['u_in_rate'] = l_train_test_set[i]['u_in_diff1'] / l_train_test_set[i]['dt_1']\n",
    "\n"
   ]
  },
  {
   "cell_type": "markdown",
   "metadata": {},
   "source": [
    "### Exportation"
   ]
  },
  {
   "cell_type": "code",
   "execution_count": 8,
   "metadata": {
    "ExecuteTime": {
     "end_time": "2021-10-30T23:05:58.911922Z",
     "start_time": "2021-10-30T23:00:04.187969Z"
    },
    "scrolled": true
   },
   "outputs": [],
   "source": [
    "for i in range(len(l_train_test_set)):\n",
    "    l_train_test_set[i].to_csv(f'train_{i}.csv', index=False)\n",
    "    \n",
    "validation_set.to_csv('validation.csv', index=False)"
   ]
  },
  {
   "cell_type": "code",
   "execution_count": null,
   "metadata": {
    "ExecuteTime": {
     "end_time": "2021-10-30T22:57:35.688675Z",
     "start_time": "2021-10-30T22:57:20.588Z"
    }
   },
   "outputs": [],
   "source": [
    "l_train_test_set[0]"
   ]
  },
  {
   "cell_type": "code",
   "execution_count": null,
   "metadata": {},
   "outputs": [],
   "source": []
  }
 ],
 "metadata": {
  "kernelspec": {
   "display_name": "Python 3 (ipykernel)",
   "language": "python",
   "name": "python3"
  },
  "language_info": {
   "codemirror_mode": {
    "name": "ipython",
    "version": 3
   },
   "file_extension": ".py",
   "mimetype": "text/x-python",
   "name": "python",
   "nbconvert_exporter": "python",
   "pygments_lexer": "ipython3",
   "version": "3.9.7"
  }
 },
 "nbformat": 4,
 "nbformat_minor": 4
}
